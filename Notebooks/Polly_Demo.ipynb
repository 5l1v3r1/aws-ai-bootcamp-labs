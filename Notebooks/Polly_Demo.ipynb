{
 "cells": [
  {
   "cell_type": "markdown",
   "metadata": {},
   "source": [
    "# Amazon Polly Demo\n",
    "\n",
    "### Convert text to speech with Amazon Polly"
   ]
  },
  {
   "cell_type": "markdown",
   "metadata": {},
   "source": [
    "***\n",
    "Copyright [2017]-[2017] Amazon.com, Inc. or its affiliates. All Rights Reserved.\n",
    "\n",
    "Licensed under the Apache License, Version 2.0 (the \"License\"). You may not use this file except in compliance with the License. A copy of the License is located at\n",
    "\n",
    "http://aws.amazon.com/apache2.0/\n",
    "\n",
    "or in the \"license\" file accompanying this file. This file is distributed on an \"AS IS\" BASIS, WITHOUT WARRANTIES OR CONDITIONS OF ANY KIND, either express or implied. See the License for the specific language governing permissions and limitations under the License.\n",
    "***"
   ]
  },
  {
   "cell_type": "markdown",
   "metadata": {},
   "source": [
    "**Prerequisites:**\n",
    "\n",
    "The user or role that executes the commands must have permissions in AWS Identity and Access Management (IAM) to perform those actions. AWS provides a set of managed policies that help you get started quickly. For our example, you need to apply the following minimum managed policies to your user or role:\n",
    "\n",
    "* AmazonPollyFullAccess \n",
    "\n",
    "Be aware that we recommend you follow AWS IAM best practices for production implementations, which is out of scope fof this workshop."
   ]
  },
  {
   "cell_type": "code",
   "execution_count": 2,
   "metadata": {},
   "outputs": [],
   "source": [
    "import boto3\n",
    "import IPython\n",
    "from pprint import pprint\n",
    "\n",
    "polly = boto3.client('polly', region_name='eu-west-1')"
   ]
  },
  {
   "cell_type": "code",
   "execution_count": null,
   "metadata": {},
   "outputs": [],
   "source": [
    "response = polly.synthesize_speech(\n",
    "    Text=\"It is great to see you today!\",\n",
    "    TextType=\"text\",\n",
    "    OutputFormat=\"mp3\",                                           \n",
    "    VoiceId=\"Emma\")\n",
    "\n",
    "pprint (response)\n",
    "     \n",
    "outfile = \"pollyresponse.mp3\"\n",
    "data = response['AudioStream'].read()\n",
    "\n",
    "with open(outfile,'wb') as f:\n",
    "     f.write(data)\n",
    "IPython.display.Audio(outfile) "
   ]
  },
  {
   "cell_type": "code",
   "execution_count": 17,
   "metadata": {},
   "outputs": [
    {
     "data": {
      "text/html": [
       "\n",
       "                <audio controls=\"controls\" >\n",
       "                    <source src=\"data:audio/mpeg;base64,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\" type=\"audio/mpeg\" />\n",
       "                    Your browser does not support the audio element.\n",
       "                </audio>\n",
       "              "
      ],
      "text/plain": [
       "<IPython.lib.display.Audio object>"
      ]
     },
     "execution_count": 17,
     "metadata": {},
     "output_type": "execute_result"
    }
   ],
   "source": [
    "response = polly.synthesize_speech(\n",
    "    Text='<speak>I am fine,<break/> thank you.<break strength=\"x-strong\"/> \\\n",
    "          <prosody rate=\"+20%\">What can I do for you?</prosody></speak>',\n",
    "    TextType=\"ssml\",\n",
    "    OutputFormat=\"mp3\",                                           \n",
    "    VoiceId=\"Emma\")\n",
    "     \n",
    "outfile = \"pollyresponse.mp3\"\n",
    "data = response['AudioStream'].read()\n",
    "\n",
    "with open(outfile,'wb') as f:\n",
    "     f.write(data)\n",
    "IPython.display.Audio(outfile) "
   ]
  },
  {
   "cell_type": "code",
   "execution_count": 15,
   "metadata": {},
   "outputs": [
    {
     "data": {
      "text/html": [
       "\n",
       "                <audio controls=\"controls\" >\n",
       "                    <source src=\"data:audio/mpeg;base64,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\" type=\"audio/mpeg\" />\n",
       "                    Your browser does not support the audio element.\n",
       "                </audio>\n",
       "              "
      ],
      "text/plain": [
       "<IPython.lib.display.Audio object>"
      ]
     },
     "execution_count": 15,
     "metadata": {},
     "output_type": "execute_result"
    }
   ],
   "source": [
    "# read (r\\id) vs read (r\\Ed)\n",
    "response = polly.synthesize_speech(\n",
    "    Text=\"<speak>I<phoneme alphabet = 'x-sampa' ph='r\\id'>read</phoneme> this book</speak>\",\n",
    "    TextType=\"ssml\",\n",
    "    OutputFormat=\"mp3\",                                           \n",
    "    VoiceId=\"Emma\")\n",
    "     \n",
    "outfile = \"pollyresponse.mp3\"\n",
    "data = response['AudioStream'].read()\n",
    "\n",
    "with open(outfile,'wb') as f:\n",
    "     f.write(data)\n",
    "IPython.display.Audio(outfile) "
   ]
  },
  {
   "cell_type": "code",
   "execution_count": null,
   "metadata": {},
   "outputs": [],
   "source": [
    "response = polly.synthesize_speech(\n",
    "    Text='<speak>My favorite chemical element is <sub alias=\"aluminium\">Al</sub>, \\\n",
    "    but Al prefers <sub alias=\"magnesium\">Mg</sub>.</speak>',\n",
    "    TextType=\"ssml\",\n",
    "    OutputFormat=\"mp3\",                                           \n",
    "    VoiceId=\"Brian\")\n",
    "     \n",
    "outfile = \"pollyresponse.mp3\"\n",
    "data = response['AudioStream'].read()\n",
    "\n",
    "with open(outfile,'wb') as f:\n",
    "     f.write(data)\n",
    "IPython.display.Audio(outfile) "
   ]
  },
  {
   "cell_type": "code",
   "execution_count": null,
   "metadata": {},
   "outputs": [],
   "source": [
    "response = polly.synthesize_speech(\n",
    "    Text='My favorite chemical element is Mg',\n",
    "    TextType=\"text\",\n",
    "    OutputFormat=\"mp3\",                                           \n",
    "    VoiceId=\"Brian\",\n",
    "    LexiconNames=[\"PollyPSE\"]\n",
    "    )\n",
    "     \n",
    "outfile = \"pollyresponse.mp3\"\n",
    "data = response['AudioStream'].read()\n",
    "\n",
    "with open(outfile,'wb') as f:\n",
    "     f.write(data)\n",
    "IPython.display.Audio(outfile) "
   ]
  },
  {
   "cell_type": "code",
   "execution_count": null,
   "metadata": {},
   "outputs": [],
   "source": [
    "response = polly.get_lexicon(\n",
    "    Name=\"PollyPSE\")\n",
    "\n",
    "xmlret = response['Lexicon']['Content']\n",
    "   \n",
    "print (xmlret)"
   ]
  },
  {
   "cell_type": "code",
   "execution_count": null,
   "metadata": {},
   "outputs": [],
   "source": [
    "response = polly.synthesize_speech(\n",
    "    Text=\"<speak><phoneme ph='bəːɱ ˈzɛksɪʃ bəˈziːʃən dˈɛ wˈeːʃːəːn dˈɛ haʁdˈn'>Beim sächsisch besiegen die weichen die harten.</phoneme></speak>\",\n",
    "    TextType=\"ssml\",\n",
    "    OutputFormat=\"mp3\",                                           \n",
    "    VoiceId=\"Hans\"\n",
    "    )\n",
    "     \n",
    "outfile = \"pollyresponse.mp3\"\n",
    "data = response['AudioStream'].read()\n",
    "\n",
    "with open(outfile,'wb') as f:\n",
    "     f.write(data)\n",
    "IPython.display.Audio(outfile) "
   ]
  }
 ],
 "metadata": {
  "kernelspec": {
   "display_name": "Python 3",
   "language": "python",
   "name": "python3"
  },
  "language_info": {
   "codemirror_mode": {
    "name": "ipython",
    "version": 3
   },
   "file_extension": ".py",
   "mimetype": "text/x-python",
   "name": "python",
   "nbconvert_exporter": "python",
   "pygments_lexer": "ipython3",
   "version": "3.6.0"
  }
 },
 "nbformat": 4,
 "nbformat_minor": 2
}
